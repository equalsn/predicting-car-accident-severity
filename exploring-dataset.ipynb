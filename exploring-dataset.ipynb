{
 "cells": [
  {
   "cell_type": "markdown",
   "source": [
    "<h1> Exploring and cleaning example dataset </h1>\n",
    "<h3>IMPORT:</h3>"
   ],
   "metadata": {
    "collapsed": false,
    "pycharm": {
     "name": "#%% md\n"
    }
   }
  },
  {
   "cell_type": "code",
   "execution_count": 1,
   "metadata": {
    "collapsed": true,
    "pycharm": {
     "is_executing": false
    }
   },
   "outputs": [],
   "source": [
    "import pandas as pd\n",
    "import numpy as np\n",
    "import seaborn as sns\n",
    "import matplotlib.pyplot as plt"
   ]
  },
  {
   "cell_type": "code",
   "execution_count": 2,
   "outputs": [
    {
     "name": "stderr",
     "text": [
      "/Library/Frameworks/Python.framework/Versions/3.8/lib/python3.8/site-packages/IPython/core/interactiveshell.py:3145: DtypeWarning: Columns (33) have mixed types.Specify dtype option on import or set low_memory=False.\n  has_raised = await self.run_ast_nodes(code_ast.body, cell_name,\n"
     ],
     "output_type": "stream"
    }
   ],
   "source": [
    "data = pd.read_csv('example-dataset/Data-Collisions.csv')"
   ],
   "metadata": {
    "collapsed": false,
    "pycharm": {
     "name": "#%%\n",
     "is_executing": false
    }
   }
  },
  {
   "cell_type": "code",
   "execution_count": 3,
   "outputs": [
    {
     "data": {
      "text/plain": "   SEVERITYCODE           X          Y  OBJECTID  INCKEY  COLDETKEY REPORTNO  \\\n0             2 -122.323148  47.703140         1    1307       1307  3502005   \n1             1 -122.347294  47.647172         2   52200      52200  2607959   \n2             1 -122.334540  47.607871         3   26700      26700  1482393   \n3             1 -122.334803  47.604803         4    1144       1144  3503937   \n4             2 -122.306426  47.545739         5   17700      17700  1807429   \n\n    STATUS      ADDRTYPE   INTKEY  ... ROADCOND                LIGHTCOND  \\\n0  Matched  Intersection  37475.0  ...      Wet                 Daylight   \n1  Matched         Block      NaN  ...      Wet  Dark - Street Lights On   \n2  Matched         Block      NaN  ...      Dry                 Daylight   \n3  Matched         Block      NaN  ...      Dry                 Daylight   \n4  Matched  Intersection  34387.0  ...      Wet                 Daylight   \n\n  PEDROWNOTGRNT  SDOTCOLNUM SPEEDING ST_COLCODE  \\\n0           NaN         NaN      NaN         10   \n1           NaN   6354039.0      NaN         11   \n2           NaN   4323031.0      NaN         32   \n3           NaN         NaN      NaN         23   \n4           NaN   4028032.0      NaN         10   \n\n                                          ST_COLDESC  SEGLANEKEY  \\\n0                                  Entering at angle           0   \n1  From same direction - both going straight - bo...           0   \n2                             One parked--one moving           0   \n3                   From same direction - all others           0   \n4                                  Entering at angle           0   \n\n   CROSSWALKKEY  HITPARKEDCAR  \n0             0             N  \n1             0             N  \n2             0             N  \n3             0             N  \n4             0             N  \n\n[5 rows x 38 columns]",
      "text/html": "<div>\n<style scoped>\n    .dataframe tbody tr th:only-of-type {\n        vertical-align: middle;\n    }\n\n    .dataframe tbody tr th {\n        vertical-align: top;\n    }\n\n    .dataframe thead th {\n        text-align: right;\n    }\n</style>\n<table border=\"1\" class=\"dataframe\">\n  <thead>\n    <tr style=\"text-align: right;\">\n      <th></th>\n      <th>SEVERITYCODE</th>\n      <th>X</th>\n      <th>Y</th>\n      <th>OBJECTID</th>\n      <th>INCKEY</th>\n      <th>COLDETKEY</th>\n      <th>REPORTNO</th>\n      <th>STATUS</th>\n      <th>ADDRTYPE</th>\n      <th>INTKEY</th>\n      <th>...</th>\n      <th>ROADCOND</th>\n      <th>LIGHTCOND</th>\n      <th>PEDROWNOTGRNT</th>\n      <th>SDOTCOLNUM</th>\n      <th>SPEEDING</th>\n      <th>ST_COLCODE</th>\n      <th>ST_COLDESC</th>\n      <th>SEGLANEKEY</th>\n      <th>CROSSWALKKEY</th>\n      <th>HITPARKEDCAR</th>\n    </tr>\n  </thead>\n  <tbody>\n    <tr>\n      <th>0</th>\n      <td>2</td>\n      <td>-122.323148</td>\n      <td>47.703140</td>\n      <td>1</td>\n      <td>1307</td>\n      <td>1307</td>\n      <td>3502005</td>\n      <td>Matched</td>\n      <td>Intersection</td>\n      <td>37475.0</td>\n      <td>...</td>\n      <td>Wet</td>\n      <td>Daylight</td>\n      <td>NaN</td>\n      <td>NaN</td>\n      <td>NaN</td>\n      <td>10</td>\n      <td>Entering at angle</td>\n      <td>0</td>\n      <td>0</td>\n      <td>N</td>\n    </tr>\n    <tr>\n      <th>1</th>\n      <td>1</td>\n      <td>-122.347294</td>\n      <td>47.647172</td>\n      <td>2</td>\n      <td>52200</td>\n      <td>52200</td>\n      <td>2607959</td>\n      <td>Matched</td>\n      <td>Block</td>\n      <td>NaN</td>\n      <td>...</td>\n      <td>Wet</td>\n      <td>Dark - Street Lights On</td>\n      <td>NaN</td>\n      <td>6354039.0</td>\n      <td>NaN</td>\n      <td>11</td>\n      <td>From same direction - both going straight - bo...</td>\n      <td>0</td>\n      <td>0</td>\n      <td>N</td>\n    </tr>\n    <tr>\n      <th>2</th>\n      <td>1</td>\n      <td>-122.334540</td>\n      <td>47.607871</td>\n      <td>3</td>\n      <td>26700</td>\n      <td>26700</td>\n      <td>1482393</td>\n      <td>Matched</td>\n      <td>Block</td>\n      <td>NaN</td>\n      <td>...</td>\n      <td>Dry</td>\n      <td>Daylight</td>\n      <td>NaN</td>\n      <td>4323031.0</td>\n      <td>NaN</td>\n      <td>32</td>\n      <td>One parked--one moving</td>\n      <td>0</td>\n      <td>0</td>\n      <td>N</td>\n    </tr>\n    <tr>\n      <th>3</th>\n      <td>1</td>\n      <td>-122.334803</td>\n      <td>47.604803</td>\n      <td>4</td>\n      <td>1144</td>\n      <td>1144</td>\n      <td>3503937</td>\n      <td>Matched</td>\n      <td>Block</td>\n      <td>NaN</td>\n      <td>...</td>\n      <td>Dry</td>\n      <td>Daylight</td>\n      <td>NaN</td>\n      <td>NaN</td>\n      <td>NaN</td>\n      <td>23</td>\n      <td>From same direction - all others</td>\n      <td>0</td>\n      <td>0</td>\n      <td>N</td>\n    </tr>\n    <tr>\n      <th>4</th>\n      <td>2</td>\n      <td>-122.306426</td>\n      <td>47.545739</td>\n      <td>5</td>\n      <td>17700</td>\n      <td>17700</td>\n      <td>1807429</td>\n      <td>Matched</td>\n      <td>Intersection</td>\n      <td>34387.0</td>\n      <td>...</td>\n      <td>Wet</td>\n      <td>Daylight</td>\n      <td>NaN</td>\n      <td>4028032.0</td>\n      <td>NaN</td>\n      <td>10</td>\n      <td>Entering at angle</td>\n      <td>0</td>\n      <td>0</td>\n      <td>N</td>\n    </tr>\n  </tbody>\n</table>\n<p>5 rows × 38 columns</p>\n</div>"
     },
     "metadata": {},
     "output_type": "execute_result",
     "execution_count": 3
    }
   ],
   "source": [
    "data.head()"
   ],
   "metadata": {
    "collapsed": false,
    "pycharm": {
     "name": "#%%\n",
     "is_executing": false
    }
   }
  },
  {
   "cell_type": "code",
   "execution_count": 4,
   "outputs": [
    {
     "data": {
      "text/plain": "         SEVERITYCODE              X              Y       OBJECTID  \\\ncount   194673.000000  189339.000000  189339.000000  194673.000000   \nunique            NaN            NaN            NaN            NaN   \ntop               NaN            NaN            NaN            NaN   \nfreq              NaN            NaN            NaN            NaN   \nmean         1.298901    -122.330518      47.619543  108479.364930   \nstd          0.457778       0.029976       0.056157   62649.722558   \nmin          1.000000    -122.419091      47.495573       1.000000   \n25%          1.000000    -122.348673      47.575956   54267.000000   \n50%          1.000000    -122.330224      47.615369  106912.000000   \n75%          2.000000    -122.311937      47.663664  162272.000000   \nmax          2.000000    -122.238949      47.734142  219547.000000   \n\n               INCKEY      COLDETKEY REPORTNO   STATUS ADDRTYPE  \\\ncount   194673.000000  194673.000000   194673   194673   192747   \nunique            NaN            NaN   194670        2        3   \ntop               NaN            NaN  1782439  Matched    Block   \nfreq              NaN            NaN        2   189786   126926   \nmean    141091.456350  141298.811381      NaN      NaN      NaN   \nstd      86634.402737   86986.542110      NaN      NaN      NaN   \nmin       1001.000000    1001.000000      NaN      NaN      NaN   \n25%      70383.000000   70383.000000      NaN      NaN      NaN   \n50%     123363.000000  123363.000000      NaN      NaN      NaN   \n75%     203319.000000  203459.000000      NaN      NaN      NaN   \nmax     331454.000000  332954.000000      NaN      NaN      NaN   \n\n               INTKEY  ... ROADCOND LIGHTCOND PEDROWNOTGRNT    SDOTCOLNUM  \\\ncount    65070.000000  ...   189661    189503          4667  1.149360e+05   \nunique            NaN  ...        9         9             1           NaN   \ntop               NaN  ...      Dry  Daylight             Y           NaN   \nfreq              NaN  ...   124510    116137          4667           NaN   \nmean     37558.450576  ...      NaN       NaN           NaN  7.972521e+06   \nstd      51745.990273  ...      NaN       NaN           NaN  2.553533e+06   \nmin      23807.000000  ...      NaN       NaN           NaN  1.007024e+06   \n25%      28667.000000  ...      NaN       NaN           NaN  6.040015e+06   \n50%      29973.000000  ...      NaN       NaN           NaN  8.023022e+06   \n75%      33973.000000  ...      NaN       NaN           NaN  1.015501e+07   \nmax     757580.000000  ...      NaN       NaN           NaN  1.307202e+07   \n\n       SPEEDING ST_COLCODE              ST_COLDESC     SEGLANEKEY  \\\ncount      9333     194655                  189769  194673.000000   \nunique        1        115                      62            NaN   \ntop           Y         32  One parked--one moving            NaN   \nfreq       9333      27612                   44421            NaN   \nmean        NaN        NaN                     NaN     269.401114   \nstd         NaN        NaN                     NaN    3315.776055   \nmin         NaN        NaN                     NaN       0.000000   \n25%         NaN        NaN                     NaN       0.000000   \n50%         NaN        NaN                     NaN       0.000000   \n75%         NaN        NaN                     NaN       0.000000   \nmax         NaN        NaN                     NaN  525241.000000   \n\n        CROSSWALKKEY  HITPARKEDCAR  \ncount   1.946730e+05        194673  \nunique           NaN             2  \ntop              NaN             N  \nfreq             NaN        187457  \nmean    9.782452e+03           NaN  \nstd     7.226926e+04           NaN  \nmin     0.000000e+00           NaN  \n25%     0.000000e+00           NaN  \n50%     0.000000e+00           NaN  \n75%     0.000000e+00           NaN  \nmax     5.239700e+06           NaN  \n\n[11 rows x 38 columns]",
      "text/html": "<div>\n<style scoped>\n    .dataframe tbody tr th:only-of-type {\n        vertical-align: middle;\n    }\n\n    .dataframe tbody tr th {\n        vertical-align: top;\n    }\n\n    .dataframe thead th {\n        text-align: right;\n    }\n</style>\n<table border=\"1\" class=\"dataframe\">\n  <thead>\n    <tr style=\"text-align: right;\">\n      <th></th>\n      <th>SEVERITYCODE</th>\n      <th>X</th>\n      <th>Y</th>\n      <th>OBJECTID</th>\n      <th>INCKEY</th>\n      <th>COLDETKEY</th>\n      <th>REPORTNO</th>\n      <th>STATUS</th>\n      <th>ADDRTYPE</th>\n      <th>INTKEY</th>\n      <th>...</th>\n      <th>ROADCOND</th>\n      <th>LIGHTCOND</th>\n      <th>PEDROWNOTGRNT</th>\n      <th>SDOTCOLNUM</th>\n      <th>SPEEDING</th>\n      <th>ST_COLCODE</th>\n      <th>ST_COLDESC</th>\n      <th>SEGLANEKEY</th>\n      <th>CROSSWALKKEY</th>\n      <th>HITPARKEDCAR</th>\n    </tr>\n  </thead>\n  <tbody>\n    <tr>\n      <th>count</th>\n      <td>194673.000000</td>\n      <td>189339.000000</td>\n      <td>189339.000000</td>\n      <td>194673.000000</td>\n      <td>194673.000000</td>\n      <td>194673.000000</td>\n      <td>194673</td>\n      <td>194673</td>\n      <td>192747</td>\n      <td>65070.000000</td>\n      <td>...</td>\n      <td>189661</td>\n      <td>189503</td>\n      <td>4667</td>\n      <td>1.149360e+05</td>\n      <td>9333</td>\n      <td>194655</td>\n      <td>189769</td>\n      <td>194673.000000</td>\n      <td>1.946730e+05</td>\n      <td>194673</td>\n    </tr>\n    <tr>\n      <th>unique</th>\n      <td>NaN</td>\n      <td>NaN</td>\n      <td>NaN</td>\n      <td>NaN</td>\n      <td>NaN</td>\n      <td>NaN</td>\n      <td>194670</td>\n      <td>2</td>\n      <td>3</td>\n      <td>NaN</td>\n      <td>...</td>\n      <td>9</td>\n      <td>9</td>\n      <td>1</td>\n      <td>NaN</td>\n      <td>1</td>\n      <td>115</td>\n      <td>62</td>\n      <td>NaN</td>\n      <td>NaN</td>\n      <td>2</td>\n    </tr>\n    <tr>\n      <th>top</th>\n      <td>NaN</td>\n      <td>NaN</td>\n      <td>NaN</td>\n      <td>NaN</td>\n      <td>NaN</td>\n      <td>NaN</td>\n      <td>1782439</td>\n      <td>Matched</td>\n      <td>Block</td>\n      <td>NaN</td>\n      <td>...</td>\n      <td>Dry</td>\n      <td>Daylight</td>\n      <td>Y</td>\n      <td>NaN</td>\n      <td>Y</td>\n      <td>32</td>\n      <td>One parked--one moving</td>\n      <td>NaN</td>\n      <td>NaN</td>\n      <td>N</td>\n    </tr>\n    <tr>\n      <th>freq</th>\n      <td>NaN</td>\n      <td>NaN</td>\n      <td>NaN</td>\n      <td>NaN</td>\n      <td>NaN</td>\n      <td>NaN</td>\n      <td>2</td>\n      <td>189786</td>\n      <td>126926</td>\n      <td>NaN</td>\n      <td>...</td>\n      <td>124510</td>\n      <td>116137</td>\n      <td>4667</td>\n      <td>NaN</td>\n      <td>9333</td>\n      <td>27612</td>\n      <td>44421</td>\n      <td>NaN</td>\n      <td>NaN</td>\n      <td>187457</td>\n    </tr>\n    <tr>\n      <th>mean</th>\n      <td>1.298901</td>\n      <td>-122.330518</td>\n      <td>47.619543</td>\n      <td>108479.364930</td>\n      <td>141091.456350</td>\n      <td>141298.811381</td>\n      <td>NaN</td>\n      <td>NaN</td>\n      <td>NaN</td>\n      <td>37558.450576</td>\n      <td>...</td>\n      <td>NaN</td>\n      <td>NaN</td>\n      <td>NaN</td>\n      <td>7.972521e+06</td>\n      <td>NaN</td>\n      <td>NaN</td>\n      <td>NaN</td>\n      <td>269.401114</td>\n      <td>9.782452e+03</td>\n      <td>NaN</td>\n    </tr>\n    <tr>\n      <th>std</th>\n      <td>0.457778</td>\n      <td>0.029976</td>\n      <td>0.056157</td>\n      <td>62649.722558</td>\n      <td>86634.402737</td>\n      <td>86986.542110</td>\n      <td>NaN</td>\n      <td>NaN</td>\n      <td>NaN</td>\n      <td>51745.990273</td>\n      <td>...</td>\n      <td>NaN</td>\n      <td>NaN</td>\n      <td>NaN</td>\n      <td>2.553533e+06</td>\n      <td>NaN</td>\n      <td>NaN</td>\n      <td>NaN</td>\n      <td>3315.776055</td>\n      <td>7.226926e+04</td>\n      <td>NaN</td>\n    </tr>\n    <tr>\n      <th>min</th>\n      <td>1.000000</td>\n      <td>-122.419091</td>\n      <td>47.495573</td>\n      <td>1.000000</td>\n      <td>1001.000000</td>\n      <td>1001.000000</td>\n      <td>NaN</td>\n      <td>NaN</td>\n      <td>NaN</td>\n      <td>23807.000000</td>\n      <td>...</td>\n      <td>NaN</td>\n      <td>NaN</td>\n      <td>NaN</td>\n      <td>1.007024e+06</td>\n      <td>NaN</td>\n      <td>NaN</td>\n      <td>NaN</td>\n      <td>0.000000</td>\n      <td>0.000000e+00</td>\n      <td>NaN</td>\n    </tr>\n    <tr>\n      <th>25%</th>\n      <td>1.000000</td>\n      <td>-122.348673</td>\n      <td>47.575956</td>\n      <td>54267.000000</td>\n      <td>70383.000000</td>\n      <td>70383.000000</td>\n      <td>NaN</td>\n      <td>NaN</td>\n      <td>NaN</td>\n      <td>28667.000000</td>\n      <td>...</td>\n      <td>NaN</td>\n      <td>NaN</td>\n      <td>NaN</td>\n      <td>6.040015e+06</td>\n      <td>NaN</td>\n      <td>NaN</td>\n      <td>NaN</td>\n      <td>0.000000</td>\n      <td>0.000000e+00</td>\n      <td>NaN</td>\n    </tr>\n    <tr>\n      <th>50%</th>\n      <td>1.000000</td>\n      <td>-122.330224</td>\n      <td>47.615369</td>\n      <td>106912.000000</td>\n      <td>123363.000000</td>\n      <td>123363.000000</td>\n      <td>NaN</td>\n      <td>NaN</td>\n      <td>NaN</td>\n      <td>29973.000000</td>\n      <td>...</td>\n      <td>NaN</td>\n      <td>NaN</td>\n      <td>NaN</td>\n      <td>8.023022e+06</td>\n      <td>NaN</td>\n      <td>NaN</td>\n      <td>NaN</td>\n      <td>0.000000</td>\n      <td>0.000000e+00</td>\n      <td>NaN</td>\n    </tr>\n    <tr>\n      <th>75%</th>\n      <td>2.000000</td>\n      <td>-122.311937</td>\n      <td>47.663664</td>\n      <td>162272.000000</td>\n      <td>203319.000000</td>\n      <td>203459.000000</td>\n      <td>NaN</td>\n      <td>NaN</td>\n      <td>NaN</td>\n      <td>33973.000000</td>\n      <td>...</td>\n      <td>NaN</td>\n      <td>NaN</td>\n      <td>NaN</td>\n      <td>1.015501e+07</td>\n      <td>NaN</td>\n      <td>NaN</td>\n      <td>NaN</td>\n      <td>0.000000</td>\n      <td>0.000000e+00</td>\n      <td>NaN</td>\n    </tr>\n    <tr>\n      <th>max</th>\n      <td>2.000000</td>\n      <td>-122.238949</td>\n      <td>47.734142</td>\n      <td>219547.000000</td>\n      <td>331454.000000</td>\n      <td>332954.000000</td>\n      <td>NaN</td>\n      <td>NaN</td>\n      <td>NaN</td>\n      <td>757580.000000</td>\n      <td>...</td>\n      <td>NaN</td>\n      <td>NaN</td>\n      <td>NaN</td>\n      <td>1.307202e+07</td>\n      <td>NaN</td>\n      <td>NaN</td>\n      <td>NaN</td>\n      <td>525241.000000</td>\n      <td>5.239700e+06</td>\n      <td>NaN</td>\n    </tr>\n  </tbody>\n</table>\n<p>11 rows × 38 columns</p>\n</div>"
     },
     "metadata": {},
     "output_type": "execute_result",
     "execution_count": 4
    }
   ],
   "source": [
    "data.describe(include=\"all\")"
   ],
   "metadata": {
    "collapsed": false,
    "pycharm": {
     "name": "#%%\n",
     "is_executing": false
    }
   }
  },
  {
   "cell_type": "code",
   "execution_count": 5,
   "outputs": [
    {
     "name": "stdout",
     "text": [
      "<class 'pandas.core.frame.DataFrame'>\nRangeIndex: 194673 entries, 0 to 194672\nData columns (total 38 columns):\n #   Column          Non-Null Count   Dtype  \n---  ------          --------------   -----  \n 0   SEVERITYCODE    194673 non-null  int64  \n 1   X               189339 non-null  float64\n 2   Y               189339 non-null  float64\n 3   OBJECTID        194673 non-null  int64  \n 4   INCKEY          194673 non-null  int64  \n 5   COLDETKEY       194673 non-null  int64  \n 6   REPORTNO        194673 non-null  object \n 7   STATUS          194673 non-null  object \n 8   ADDRTYPE        192747 non-null  object \n 9   INTKEY          65070 non-null   float64\n 10  LOCATION        191996 non-null  object \n 11  EXCEPTRSNCODE   84811 non-null   object \n 12  EXCEPTRSNDESC   5638 non-null    object \n 13  SEVERITYCODE.1  194673 non-null  int64  \n 14  SEVERITYDESC    194673 non-null  object \n 15  COLLISIONTYPE   189769 non-null  object \n 16  PERSONCOUNT     194673 non-null  int64  \n 17  PEDCOUNT        194673 non-null  int64  \n 18  PEDCYLCOUNT     194673 non-null  int64  \n 19  VEHCOUNT        194673 non-null  int64  \n 20  INCDATE         194673 non-null  object \n 21  INCDTTM         194673 non-null  object \n 22  JUNCTIONTYPE    188344 non-null  object \n 23  SDOT_COLCODE    194673 non-null  int64  \n 24  SDOT_COLDESC    194673 non-null  object \n 25  INATTENTIONIND  29805 non-null   object \n 26  UNDERINFL       189789 non-null  object \n 27  WEATHER         189592 non-null  object \n 28  ROADCOND        189661 non-null  object \n 29  LIGHTCOND       189503 non-null  object \n 30  PEDROWNOTGRNT   4667 non-null    object \n 31  SDOTCOLNUM      114936 non-null  float64\n 32  SPEEDING        9333 non-null    object \n 33  ST_COLCODE      194655 non-null  object \n 34  ST_COLDESC      189769 non-null  object \n 35  SEGLANEKEY      194673 non-null  int64  \n 36  CROSSWALKKEY    194673 non-null  int64  \n 37  HITPARKEDCAR    194673 non-null  object \ndtypes: float64(4), int64(12), object(22)\nmemory usage: 56.4+ MB\n"
     ],
     "output_type": "stream"
    },
    {
     "data": {
      "text/plain": "SEVERITYCODE      194673\nX                 189339\nY                 189339\nOBJECTID          194673\nINCKEY            194673\nCOLDETKEY         194673\nREPORTNO          194673\nSTATUS            194673\nADDRTYPE          192747\nINTKEY             65070\nLOCATION          191996\nEXCEPTRSNCODE      84811\nEXCEPTRSNDESC       5638\nSEVERITYCODE.1    194673\nSEVERITYDESC      194673\nCOLLISIONTYPE     189769\nPERSONCOUNT       194673\nPEDCOUNT          194673\nPEDCYLCOUNT       194673\nVEHCOUNT          194673\nINCDATE           194673\nINCDTTM           194673\nJUNCTIONTYPE      188344\nSDOT_COLCODE      194673\nSDOT_COLDESC      194673\nINATTENTIONIND     29805\nUNDERINFL         189789\nWEATHER           189592\nROADCOND          189661\nLIGHTCOND         189503\nPEDROWNOTGRNT       4667\nSDOTCOLNUM        114936\nSPEEDING            9333\nST_COLCODE        194655\nST_COLDESC        189769\nSEGLANEKEY        194673\nCROSSWALKKEY      194673\nHITPARKEDCAR      194673\ndtype: int64"
     },
     "metadata": {},
     "output_type": "execute_result",
     "execution_count": 5
    }
   ],
   "source": [
    "data.info()\n",
    "data.columns\n",
    "data.count()"
   ],
   "metadata": {
    "collapsed": false,
    "pycharm": {
     "name": "#%%\n",
     "is_executing": false
    }
   }
  },
  {
   "cell_type": "code",
   "execution_count": 6,
   "outputs": [
    {
     "name": "stdout",
     "text": [
      " \nCount total NaN: \n\n SEVERITYCODE           0\nX                   5334\nY                   5334\nOBJECTID               0\nINCKEY                 0\nCOLDETKEY              0\nREPORTNO               0\nSTATUS                 0\nADDRTYPE            1926\nINTKEY            129603\nLOCATION            2677\nEXCEPTRSNCODE     109862\nEXCEPTRSNDESC     189035\nSEVERITYCODE.1         0\nSEVERITYDESC           0\nCOLLISIONTYPE       4904\nPERSONCOUNT            0\nPEDCOUNT               0\nPEDCYLCOUNT            0\nVEHCOUNT               0\nINCDATE                0\nINCDTTM                0\nJUNCTIONTYPE        6329\nSDOT_COLCODE           0\nSDOT_COLDESC           0\nINATTENTIONIND    164868\nUNDERINFL           4884\nWEATHER             5081\nROADCOND            5012\nLIGHTCOND           5170\nPEDROWNOTGRNT     190006\nSDOTCOLNUM         79737\nSPEEDING          185340\nST_COLCODE            18\nST_COLDESC          4904\nSEGLANEKEY             0\nCROSSWALKKEY           0\nHITPARKEDCAR           0\ndtype: int64\n"
     ],
     "output_type": "stream"
    }
   ],
   "source": [
    "print(\" \\nCount total NaN: \\n\\n\", \n",
    "      data.isnull().sum()) "
   ],
   "metadata": {
    "collapsed": false,
    "pycharm": {
     "name": "#%%\n",
     "is_executing": false
    }
   }
  },
  {
   "cell_type": "code",
   "execution_count": 7,
   "outputs": [],
   "source": [
    "df1 = pd.read_csv('large-data-NO-GIT/US_Accidents_June20.csv', nrows=10000)"
   ],
   "metadata": {
    "collapsed": false,
    "pycharm": {
     "name": "#%%\n",
     "is_executing": false
    }
   }
  },
  {
   "cell_type": "code",
   "execution_count": 8,
   "outputs": [
    {
     "data": {
      "text/plain": "    ID    Source    TMC  Severity           Start_Time             End_Time  \\\n0  A-1  MapQuest  201.0         3  2016-02-08 05:46:00  2016-02-08 11:00:00   \n1  A-2  MapQuest  201.0         2  2016-02-08 06:07:59  2016-02-08 06:37:59   \n2  A-3  MapQuest  201.0         2  2016-02-08 06:49:27  2016-02-08 07:19:27   \n3  A-4  MapQuest  201.0         3  2016-02-08 07:23:34  2016-02-08 07:53:34   \n4  A-5  MapQuest  201.0         2  2016-02-08 07:39:07  2016-02-08 08:09:07   \n\n   Start_Lat  Start_Lng  End_Lat  End_Lng  ...  Roundabout Station   Stop  \\\n0  39.865147 -84.058723      NaN      NaN  ...       False   False  False   \n1  39.928059 -82.831184      NaN      NaN  ...       False   False  False   \n2  39.063148 -84.032608      NaN      NaN  ...       False   False  False   \n3  39.747753 -84.205582      NaN      NaN  ...       False   False  False   \n4  39.627781 -84.188354      NaN      NaN  ...       False   False  False   \n\n  Traffic_Calming Traffic_Signal Turning_Loop Sunrise_Sunset Civil_Twilight  \\\n0           False          False        False          Night          Night   \n1           False          False        False          Night          Night   \n2           False           True        False          Night          Night   \n3           False          False        False          Night            Day   \n4           False           True        False            Day            Day   \n\n  Nautical_Twilight Astronomical_Twilight  \n0             Night                 Night  \n1             Night                   Day  \n2               Day                   Day  \n3               Day                   Day  \n4               Day                   Day  \n\n[5 rows x 49 columns]",
      "text/html": "<div>\n<style scoped>\n    .dataframe tbody tr th:only-of-type {\n        vertical-align: middle;\n    }\n\n    .dataframe tbody tr th {\n        vertical-align: top;\n    }\n\n    .dataframe thead th {\n        text-align: right;\n    }\n</style>\n<table border=\"1\" class=\"dataframe\">\n  <thead>\n    <tr style=\"text-align: right;\">\n      <th></th>\n      <th>ID</th>\n      <th>Source</th>\n      <th>TMC</th>\n      <th>Severity</th>\n      <th>Start_Time</th>\n      <th>End_Time</th>\n      <th>Start_Lat</th>\n      <th>Start_Lng</th>\n      <th>End_Lat</th>\n      <th>End_Lng</th>\n      <th>...</th>\n      <th>Roundabout</th>\n      <th>Station</th>\n      <th>Stop</th>\n      <th>Traffic_Calming</th>\n      <th>Traffic_Signal</th>\n      <th>Turning_Loop</th>\n      <th>Sunrise_Sunset</th>\n      <th>Civil_Twilight</th>\n      <th>Nautical_Twilight</th>\n      <th>Astronomical_Twilight</th>\n    </tr>\n  </thead>\n  <tbody>\n    <tr>\n      <th>0</th>\n      <td>A-1</td>\n      <td>MapQuest</td>\n      <td>201.0</td>\n      <td>3</td>\n      <td>2016-02-08 05:46:00</td>\n      <td>2016-02-08 11:00:00</td>\n      <td>39.865147</td>\n      <td>-84.058723</td>\n      <td>NaN</td>\n      <td>NaN</td>\n      <td>...</td>\n      <td>False</td>\n      <td>False</td>\n      <td>False</td>\n      <td>False</td>\n      <td>False</td>\n      <td>False</td>\n      <td>Night</td>\n      <td>Night</td>\n      <td>Night</td>\n      <td>Night</td>\n    </tr>\n    <tr>\n      <th>1</th>\n      <td>A-2</td>\n      <td>MapQuest</td>\n      <td>201.0</td>\n      <td>2</td>\n      <td>2016-02-08 06:07:59</td>\n      <td>2016-02-08 06:37:59</td>\n      <td>39.928059</td>\n      <td>-82.831184</td>\n      <td>NaN</td>\n      <td>NaN</td>\n      <td>...</td>\n      <td>False</td>\n      <td>False</td>\n      <td>False</td>\n      <td>False</td>\n      <td>False</td>\n      <td>False</td>\n      <td>Night</td>\n      <td>Night</td>\n      <td>Night</td>\n      <td>Day</td>\n    </tr>\n    <tr>\n      <th>2</th>\n      <td>A-3</td>\n      <td>MapQuest</td>\n      <td>201.0</td>\n      <td>2</td>\n      <td>2016-02-08 06:49:27</td>\n      <td>2016-02-08 07:19:27</td>\n      <td>39.063148</td>\n      <td>-84.032608</td>\n      <td>NaN</td>\n      <td>NaN</td>\n      <td>...</td>\n      <td>False</td>\n      <td>False</td>\n      <td>False</td>\n      <td>False</td>\n      <td>True</td>\n      <td>False</td>\n      <td>Night</td>\n      <td>Night</td>\n      <td>Day</td>\n      <td>Day</td>\n    </tr>\n    <tr>\n      <th>3</th>\n      <td>A-4</td>\n      <td>MapQuest</td>\n      <td>201.0</td>\n      <td>3</td>\n      <td>2016-02-08 07:23:34</td>\n      <td>2016-02-08 07:53:34</td>\n      <td>39.747753</td>\n      <td>-84.205582</td>\n      <td>NaN</td>\n      <td>NaN</td>\n      <td>...</td>\n      <td>False</td>\n      <td>False</td>\n      <td>False</td>\n      <td>False</td>\n      <td>False</td>\n      <td>False</td>\n      <td>Night</td>\n      <td>Day</td>\n      <td>Day</td>\n      <td>Day</td>\n    </tr>\n    <tr>\n      <th>4</th>\n      <td>A-5</td>\n      <td>MapQuest</td>\n      <td>201.0</td>\n      <td>2</td>\n      <td>2016-02-08 07:39:07</td>\n      <td>2016-02-08 08:09:07</td>\n      <td>39.627781</td>\n      <td>-84.188354</td>\n      <td>NaN</td>\n      <td>NaN</td>\n      <td>...</td>\n      <td>False</td>\n      <td>False</td>\n      <td>False</td>\n      <td>False</td>\n      <td>True</td>\n      <td>False</td>\n      <td>Day</td>\n      <td>Day</td>\n      <td>Day</td>\n      <td>Day</td>\n    </tr>\n  </tbody>\n</table>\n<p>5 rows × 49 columns</p>\n</div>"
     },
     "metadata": {},
     "output_type": "execute_result",
     "execution_count": 8
    }
   ],
   "source": [
    "df1.head()"
   ],
   "metadata": {
    "collapsed": false,
    "pycharm": {
     "name": "#%%\n",
     "is_executing": false
    }
   }
  },
  {
   "cell_type": "code",
   "execution_count": 9,
   "outputs": [
    {
     "data": {
      "text/plain": "            ID    Source           TMC     Severity           Start_Time  \\\ncount    10000     10000  10000.000000  10000.00000                10000   \nunique   10000         2           NaN          NaN                 9907   \ntop     A-2257  MapQuest           NaN          NaN  2016-06-26 08:16:07   \nfreq         1      9981           NaN          NaN                   13   \nmean       NaN       NaN    209.487200      2.39470                  NaN   \nstd        NaN       NaN     20.115469      0.49126                  NaN   \nmin        NaN       NaN    200.000000      1.00000                  NaN   \n25%        NaN       NaN    201.000000      2.00000                  NaN   \n50%        NaN       NaN    201.000000      2.00000                  NaN   \n75%        NaN       NaN    201.000000      3.00000                  NaN   \nmax        NaN       NaN    406.000000      4.00000                  NaN   \n\n                   End_Time     Start_Lat     Start_Lng  End_Lat  End_Lng  \\\ncount                 10000  10000.000000  10000.000000      0.0      0.0   \nunique                 9921           NaN           NaN      NaN      NaN   \ntop     2016-07-16 16:50:00           NaN           NaN      NaN      NaN   \nfreq                     13           NaN           NaN      NaN      NaN   \nmean                    NaN     38.128680   -119.041084      NaN      NaN   \nstd                     NaN      0.749559      9.963780      NaN      NaN   \nmin                     NaN     36.352592   -123.810753      NaN      NaN   \n25%                     NaN     37.643864   -122.159031      NaN      NaN   \n50%                     NaN     37.959778   -121.875954      NaN      NaN   \n75%                     NaN     38.574538   -121.349976      NaN      NaN   \nmax                     NaN     41.428753    -81.550728      NaN      NaN   \n\n        ...  Roundabout Station   Stop Traffic_Calming Traffic_Signal  \\\ncount   ...       10000   10000  10000           10000          10000   \nunique  ...           2       2      2               2              2   \ntop     ...       False   False  False           False          False   \nfreq    ...        9999    9851   9701            9995           9043   \nmean    ...         NaN     NaN    NaN             NaN            NaN   \nstd     ...         NaN     NaN    NaN             NaN            NaN   \nmin     ...         NaN     NaN    NaN             NaN            NaN   \n25%     ...         NaN     NaN    NaN             NaN            NaN   \n50%     ...         NaN     NaN    NaN             NaN            NaN   \n75%     ...         NaN     NaN    NaN             NaN            NaN   \nmax     ...         NaN     NaN    NaN             NaN            NaN   \n\n       Turning_Loop Sunrise_Sunset Civil_Twilight Nautical_Twilight  \\\ncount         10000          10000          10000             10000   \nunique            1              2              2                 2   \ntop           False            Day            Day               Day   \nfreq          10000           6031           6423              6741   \nmean            NaN            NaN            NaN               NaN   \nstd             NaN            NaN            NaN               NaN   \nmin             NaN            NaN            NaN               NaN   \n25%             NaN            NaN            NaN               NaN   \n50%             NaN            NaN            NaN               NaN   \n75%             NaN            NaN            NaN               NaN   \nmax             NaN            NaN            NaN               NaN   \n\n       Astronomical_Twilight  \ncount                  10000  \nunique                     2  \ntop                      Day  \nfreq                    7159  \nmean                     NaN  \nstd                      NaN  \nmin                      NaN  \n25%                      NaN  \n50%                      NaN  \n75%                      NaN  \nmax                      NaN  \n\n[11 rows x 49 columns]",
      "text/html": "<div>\n<style scoped>\n    .dataframe tbody tr th:only-of-type {\n        vertical-align: middle;\n    }\n\n    .dataframe tbody tr th {\n        vertical-align: top;\n    }\n\n    .dataframe thead th {\n        text-align: right;\n    }\n</style>\n<table border=\"1\" class=\"dataframe\">\n  <thead>\n    <tr style=\"text-align: right;\">\n      <th></th>\n      <th>ID</th>\n      <th>Source</th>\n      <th>TMC</th>\n      <th>Severity</th>\n      <th>Start_Time</th>\n      <th>End_Time</th>\n      <th>Start_Lat</th>\n      <th>Start_Lng</th>\n      <th>End_Lat</th>\n      <th>End_Lng</th>\n      <th>...</th>\n      <th>Roundabout</th>\n      <th>Station</th>\n      <th>Stop</th>\n      <th>Traffic_Calming</th>\n      <th>Traffic_Signal</th>\n      <th>Turning_Loop</th>\n      <th>Sunrise_Sunset</th>\n      <th>Civil_Twilight</th>\n      <th>Nautical_Twilight</th>\n      <th>Astronomical_Twilight</th>\n    </tr>\n  </thead>\n  <tbody>\n    <tr>\n      <th>count</th>\n      <td>10000</td>\n      <td>10000</td>\n      <td>10000.000000</td>\n      <td>10000.00000</td>\n      <td>10000</td>\n      <td>10000</td>\n      <td>10000.000000</td>\n      <td>10000.000000</td>\n      <td>0.0</td>\n      <td>0.0</td>\n      <td>...</td>\n      <td>10000</td>\n      <td>10000</td>\n      <td>10000</td>\n      <td>10000</td>\n      <td>10000</td>\n      <td>10000</td>\n      <td>10000</td>\n      <td>10000</td>\n      <td>10000</td>\n      <td>10000</td>\n    </tr>\n    <tr>\n      <th>unique</th>\n      <td>10000</td>\n      <td>2</td>\n      <td>NaN</td>\n      <td>NaN</td>\n      <td>9907</td>\n      <td>9921</td>\n      <td>NaN</td>\n      <td>NaN</td>\n      <td>NaN</td>\n      <td>NaN</td>\n      <td>...</td>\n      <td>2</td>\n      <td>2</td>\n      <td>2</td>\n      <td>2</td>\n      <td>2</td>\n      <td>1</td>\n      <td>2</td>\n      <td>2</td>\n      <td>2</td>\n      <td>2</td>\n    </tr>\n    <tr>\n      <th>top</th>\n      <td>A-2257</td>\n      <td>MapQuest</td>\n      <td>NaN</td>\n      <td>NaN</td>\n      <td>2016-06-26 08:16:07</td>\n      <td>2016-07-16 16:50:00</td>\n      <td>NaN</td>\n      <td>NaN</td>\n      <td>NaN</td>\n      <td>NaN</td>\n      <td>...</td>\n      <td>False</td>\n      <td>False</td>\n      <td>False</td>\n      <td>False</td>\n      <td>False</td>\n      <td>False</td>\n      <td>Day</td>\n      <td>Day</td>\n      <td>Day</td>\n      <td>Day</td>\n    </tr>\n    <tr>\n      <th>freq</th>\n      <td>1</td>\n      <td>9981</td>\n      <td>NaN</td>\n      <td>NaN</td>\n      <td>13</td>\n      <td>13</td>\n      <td>NaN</td>\n      <td>NaN</td>\n      <td>NaN</td>\n      <td>NaN</td>\n      <td>...</td>\n      <td>9999</td>\n      <td>9851</td>\n      <td>9701</td>\n      <td>9995</td>\n      <td>9043</td>\n      <td>10000</td>\n      <td>6031</td>\n      <td>6423</td>\n      <td>6741</td>\n      <td>7159</td>\n    </tr>\n    <tr>\n      <th>mean</th>\n      <td>NaN</td>\n      <td>NaN</td>\n      <td>209.487200</td>\n      <td>2.39470</td>\n      <td>NaN</td>\n      <td>NaN</td>\n      <td>38.128680</td>\n      <td>-119.041084</td>\n      <td>NaN</td>\n      <td>NaN</td>\n      <td>...</td>\n      <td>NaN</td>\n      <td>NaN</td>\n      <td>NaN</td>\n      <td>NaN</td>\n      <td>NaN</td>\n      <td>NaN</td>\n      <td>NaN</td>\n      <td>NaN</td>\n      <td>NaN</td>\n      <td>NaN</td>\n    </tr>\n    <tr>\n      <th>std</th>\n      <td>NaN</td>\n      <td>NaN</td>\n      <td>20.115469</td>\n      <td>0.49126</td>\n      <td>NaN</td>\n      <td>NaN</td>\n      <td>0.749559</td>\n      <td>9.963780</td>\n      <td>NaN</td>\n      <td>NaN</td>\n      <td>...</td>\n      <td>NaN</td>\n      <td>NaN</td>\n      <td>NaN</td>\n      <td>NaN</td>\n      <td>NaN</td>\n      <td>NaN</td>\n      <td>NaN</td>\n      <td>NaN</td>\n      <td>NaN</td>\n      <td>NaN</td>\n    </tr>\n    <tr>\n      <th>min</th>\n      <td>NaN</td>\n      <td>NaN</td>\n      <td>200.000000</td>\n      <td>1.00000</td>\n      <td>NaN</td>\n      <td>NaN</td>\n      <td>36.352592</td>\n      <td>-123.810753</td>\n      <td>NaN</td>\n      <td>NaN</td>\n      <td>...</td>\n      <td>NaN</td>\n      <td>NaN</td>\n      <td>NaN</td>\n      <td>NaN</td>\n      <td>NaN</td>\n      <td>NaN</td>\n      <td>NaN</td>\n      <td>NaN</td>\n      <td>NaN</td>\n      <td>NaN</td>\n    </tr>\n    <tr>\n      <th>25%</th>\n      <td>NaN</td>\n      <td>NaN</td>\n      <td>201.000000</td>\n      <td>2.00000</td>\n      <td>NaN</td>\n      <td>NaN</td>\n      <td>37.643864</td>\n      <td>-122.159031</td>\n      <td>NaN</td>\n      <td>NaN</td>\n      <td>...</td>\n      <td>NaN</td>\n      <td>NaN</td>\n      <td>NaN</td>\n      <td>NaN</td>\n      <td>NaN</td>\n      <td>NaN</td>\n      <td>NaN</td>\n      <td>NaN</td>\n      <td>NaN</td>\n      <td>NaN</td>\n    </tr>\n    <tr>\n      <th>50%</th>\n      <td>NaN</td>\n      <td>NaN</td>\n      <td>201.000000</td>\n      <td>2.00000</td>\n      <td>NaN</td>\n      <td>NaN</td>\n      <td>37.959778</td>\n      <td>-121.875954</td>\n      <td>NaN</td>\n      <td>NaN</td>\n      <td>...</td>\n      <td>NaN</td>\n      <td>NaN</td>\n      <td>NaN</td>\n      <td>NaN</td>\n      <td>NaN</td>\n      <td>NaN</td>\n      <td>NaN</td>\n      <td>NaN</td>\n      <td>NaN</td>\n      <td>NaN</td>\n    </tr>\n    <tr>\n      <th>75%</th>\n      <td>NaN</td>\n      <td>NaN</td>\n      <td>201.000000</td>\n      <td>3.00000</td>\n      <td>NaN</td>\n      <td>NaN</td>\n      <td>38.574538</td>\n      <td>-121.349976</td>\n      <td>NaN</td>\n      <td>NaN</td>\n      <td>...</td>\n      <td>NaN</td>\n      <td>NaN</td>\n      <td>NaN</td>\n      <td>NaN</td>\n      <td>NaN</td>\n      <td>NaN</td>\n      <td>NaN</td>\n      <td>NaN</td>\n      <td>NaN</td>\n      <td>NaN</td>\n    </tr>\n    <tr>\n      <th>max</th>\n      <td>NaN</td>\n      <td>NaN</td>\n      <td>406.000000</td>\n      <td>4.00000</td>\n      <td>NaN</td>\n      <td>NaN</td>\n      <td>41.428753</td>\n      <td>-81.550728</td>\n      <td>NaN</td>\n      <td>NaN</td>\n      <td>...</td>\n      <td>NaN</td>\n      <td>NaN</td>\n      <td>NaN</td>\n      <td>NaN</td>\n      <td>NaN</td>\n      <td>NaN</td>\n      <td>NaN</td>\n      <td>NaN</td>\n      <td>NaN</td>\n      <td>NaN</td>\n    </tr>\n  </tbody>\n</table>\n<p>11 rows × 49 columns</p>\n</div>"
     },
     "metadata": {},
     "output_type": "execute_result",
     "execution_count": 9
    }
   ],
   "source": [
    "df1.describe(include=\"all\")"
   ],
   "metadata": {
    "collapsed": false,
    "pycharm": {
     "name": "#%%\n",
     "is_executing": false
    }
   }
  },
  {
   "cell_type": "code",
   "execution_count": 11,
   "outputs": [
    {
     "name": "stdout",
     "text": [
      "<class 'pandas.core.frame.DataFrame'>\nRangeIndex: 10000 entries, 0 to 9999\nData columns (total 49 columns):\n #   Column                 Non-Null Count  Dtype  \n---  ------                 --------------  -----  \n 0   ID                     10000 non-null  object \n 1   Source                 10000 non-null  object \n 2   TMC                    10000 non-null  float64\n 3   Severity               10000 non-null  int64  \n 4   Start_Time             10000 non-null  object \n 5   End_Time               10000 non-null  object \n 6   Start_Lat              10000 non-null  float64\n 7   Start_Lng              10000 non-null  float64\n 8   End_Lat                0 non-null      float64\n 9   End_Lng                0 non-null      float64\n 10  Distance(mi)           10000 non-null  float64\n 11  Description            10000 non-null  object \n 12  Number                 2792 non-null   float64\n 13  Street                 10000 non-null  object \n 14  Side                   10000 non-null  object \n 15  City                   10000 non-null  object \n 16  County                 10000 non-null  object \n 17  State                  10000 non-null  object \n 18  Zipcode                9999 non-null   object \n 19  Country                10000 non-null  object \n 20  Timezone               9999 non-null   object \n 21  Airport_Code           9999 non-null   object \n 22  Weather_Timestamp      9969 non-null   object \n 23  Temperature(F)         9915 non-null   float64\n 24  Wind_Chill(F)          1426 non-null   float64\n 25  Humidity(%)            9876 non-null   float64\n 26  Pressure(in)           9965 non-null   float64\n 27  Visibility(mi)         9904 non-null   float64\n 28  Wind_Direction         9969 non-null   object \n 29  Wind_Speed(mph)        8226 non-null   float64\n 30  Precipitation(in)      1123 non-null   float64\n 31  Weather_Condition      9923 non-null   object \n 32  Amenity                10000 non-null  bool   \n 33  Bump                   10000 non-null  bool   \n 34  Crossing               10000 non-null  bool   \n 35  Give_Way               10000 non-null  bool   \n 36  Junction               10000 non-null  bool   \n 37  No_Exit                10000 non-null  bool   \n 38  Railway                10000 non-null  bool   \n 39  Roundabout             10000 non-null  bool   \n 40  Station                10000 non-null  bool   \n 41  Stop                   10000 non-null  bool   \n 42  Traffic_Calming        10000 non-null  bool   \n 43  Traffic_Signal         10000 non-null  bool   \n 44  Turning_Loop           10000 non-null  bool   \n 45  Sunrise_Sunset         10000 non-null  object \n 46  Civil_Twilight         10000 non-null  object \n 47  Nautical_Twilight      10000 non-null  object \n 48  Astronomical_Twilight  10000 non-null  object \ndtypes: bool(13), float64(14), int64(1), object(21)\nmemory usage: 2.9+ MB\n"
     ],
     "output_type": "stream"
    },
    {
     "data": {
      "text/plain": "ID                       10000\nSource                   10000\nTMC                      10000\nSeverity                 10000\nStart_Time               10000\nEnd_Time                 10000\nStart_Lat                10000\nStart_Lng                10000\nEnd_Lat                      0\nEnd_Lng                      0\nDistance(mi)             10000\nDescription              10000\nNumber                    2792\nStreet                   10000\nSide                     10000\nCity                     10000\nCounty                   10000\nState                    10000\nZipcode                   9999\nCountry                  10000\nTimezone                  9999\nAirport_Code              9999\nWeather_Timestamp         9969\nTemperature(F)            9915\nWind_Chill(F)             1426\nHumidity(%)               9876\nPressure(in)              9965\nVisibility(mi)            9904\nWind_Direction            9969\nWind_Speed(mph)           8226\nPrecipitation(in)         1123\nWeather_Condition         9923\nAmenity                  10000\nBump                     10000\nCrossing                 10000\nGive_Way                 10000\nJunction                 10000\nNo_Exit                  10000\nRailway                  10000\nRoundabout               10000\nStation                  10000\nStop                     10000\nTraffic_Calming          10000\nTraffic_Signal           10000\nTurning_Loop             10000\nSunrise_Sunset           10000\nCivil_Twilight           10000\nNautical_Twilight        10000\nAstronomical_Twilight    10000\ndtype: int64"
     },
     "metadata": {},
     "output_type": "execute_result",
     "execution_count": 11
    }
   ],
   "source": [
    "df1.info()\n",
    "df1.columns\n",
    "df1.count()"
   ],
   "metadata": {
    "collapsed": false,
    "pycharm": {
     "name": "#%%\n",
     "is_executing": false
    }
   }
  },
  {
   "cell_type": "code",
   "execution_count": 12,
   "outputs": [
    {
     "data": {
      "text/plain": "count      9923\nunique       24\ntop       Clear\nfreq       5495\nName: Weather_Condition, dtype: object"
     },
     "metadata": {},
     "output_type": "execute_result",
     "execution_count": 12
    }
   ],
   "source": [
    "df1['Weather_Condition'].describe()"
   ],
   "metadata": {
    "collapsed": false,
    "pycharm": {
     "name": "#%%\n",
     "is_executing": false
    }
   }
  },
  {
   "cell_type": "code",
   "execution_count": 13,
   "outputs": [
    {
     "data": {
      "text/plain": "count    9904.000000\nmean        8.914297\nstd         2.570054\nmin         0.200000\n25%        10.000000\n50%        10.000000\n75%        10.000000\nmax        80.000000\nName: Visibility(mi), dtype: float64"
     },
     "metadata": {},
     "output_type": "execute_result",
     "execution_count": 13
    }
   ],
   "source": [
    "df1['Visibility(mi)'].describe()"
   ],
   "metadata": {
    "collapsed": false,
    "pycharm": {
     "name": "#%%\n",
     "is_executing": false
    }
   }
  },
  {
   "cell_type": "code",
   "execution_count": 14,
   "outputs": [
    {
     "data": {
      "text/plain": "count    10000.000000\nmean       209.487200\nstd         20.115469\nmin        200.000000\n25%        201.000000\n50%        201.000000\n75%        201.000000\nmax        406.000000\nName: TMC, dtype: float64"
     },
     "metadata": {},
     "output_type": "execute_result",
     "execution_count": 14
    }
   ],
   "source": [
    "df1['TMC'].describe()"
   ],
   "metadata": {
    "collapsed": false,
    "pycharm": {
     "name": "#%%\n",
     "is_executing": false
    }
   }
  },
  {
   "cell_type": "code",
   "execution_count": 15,
   "outputs": [
    {
     "data": {
      "text/plain": "<matplotlib.collections.PathCollection at 0x7fc8436a9310>"
     },
     "metadata": {},
     "output_type": "execute_result",
     "execution_count": 15
    },
    {
     "data": {
      "text/plain": "<Figure size 432x288 with 1 Axes>",
      "image/png": "[encoded data removed]"
     },
     "metadata": {
      "needs_background": "light"
     },
     "output_type": "display_data"
    }
   ],
   "source": [
    "plt.scatter(x='Visibility(mi)', y='Severity',data = df1)"
   ],
   "metadata": {
    "collapsed": false,
    "pycharm": {
     "name": "#%%\n",
     "is_executing": false
    }
   }
  },
  {
   "cell_type": "code",
   "execution_count": 16,
   "outputs": [
    {
     "data": {
      "text/plain": "<matplotlib.collections.PathCollection at 0x7fc843319cd0>"
     },
     "metadata": {},
     "output_type": "execute_result",
     "execution_count": 16
    },
    {
     "data": {
      "text/plain": "<Figure size 432x288 with 1 Axes>",
      "image/png": "[encoded data removed]"
     },
     "metadata": {
      "needs_background": "light"
     },
     "output_type": "display_data"
    }
   ],
   "source": [
    "plt.scatter(x='Precipitation(in)', y='Severity',data = df1)"
   ],
   "metadata": {
    "collapsed": false,
    "pycharm": {
     "name": "#%%\n",
     "is_executing": false
    }
   }
  },
  {
   "cell_type": "code",
   "execution_count": 17,
   "outputs": [
    {
     "data": {
      "text/plain": "<matplotlib.collections.PathCollection at 0x7fc843e50a30>"
     },
     "metadata": {},
     "output_type": "execute_result",
     "execution_count": 17
    },
    {
     "data": {
      "text/plain": "<Figure size 432x288 with 1 Axes>",
      "image/png": "[encoded data removed]"
     },
     "metadata": {
      "needs_background": "light"
     },
     "output_type": "display_data"
    }
   ],
   "source": [
    "plt.scatter(x='Humidity(%)', y='Severity',data = df1)"
   ],
   "metadata": {
    "collapsed": false,
    "pycharm": {
     "name": "#%%\n",
     "is_executing": false
    }
   }
  },
  {
   "cell_type": "code",
   "execution_count": null,
   "outputs": [],
   "source": [],
   "metadata": {
    "collapsed": false,
    "pycharm": {
     "name": "#%%\n",
     "is_executing": false
    }
   }
  },
  {
   "cell_type": "code",
   "execution_count": null,
   "outputs": [],
   "source": [
    "\n"
   ],
   "metadata": {
    "collapsed": false,
    "pycharm": {
     "name": "#%%\n"
    }
   }
  }
 ],
 "metadata": {
  "kernelspec": {
   "display_name": "Python 3",
   "language": "python",
   "name": "python3"
  },
  "language_info": {
   "codemirror_mode": {
    "name": "ipython",
    "version": 2
   },
   "file_extension": ".py",
   "mimetype": "text/x-python",
   "name": "python",
   "nbconvert_exporter": "python",
   "pygments_lexer": "ipython2",
   "version": "2.7.6"
  },
  "pycharm": {
   "stem_cell": {
    "cell_type": "raw",
    "source": [],
    "metadata": {
     "collapsed": false
    }
   }
  }
 },
 "nbformat": 4,
 "nbformat_minor": 0
}